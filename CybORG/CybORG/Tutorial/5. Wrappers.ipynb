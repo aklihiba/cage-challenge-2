{
 "cells": [
  {
   "cell_type": "markdown",
   "metadata": {},
   "source": [
    "### Simple Wrappers"
   ]
  },
  {
   "cell_type": "code",
   "execution_count": 2,
   "metadata": {},
   "outputs": [],
   "source": [
    "import inspect\n",
    "from pprint import pprint\n",
    "from CybORG import CybORG\n",
    "from CybORG.Agents.Wrappers import *\n",
    "\n",
    "path = str(inspect.getfile(CybORG))\n",
    "path = path[:-10] + '/Shared/Scenarios/Scenario2.yaml'\n",
    "\n",
    "cyborg = CybORG(path,'sim')"
   ]
  },
  {
   "cell_type": "markdown",
   "metadata": {},
   "source": [
    "Our demonstrations have mostly been with native CybORG, but we will now demonstrate how AI can be assisted by the use of Wrappers.\n",
    "\n",
    "Our first Wrapper is EnumActionWrapper, which calculates all the possible actions and returns the action space as the number of such actions. This gives a relatively large number of actions for both Blue and Red team."
   ]
  },
  {
   "cell_type": "code",
   "execution_count": 3,
   "metadata": {},
   "outputs": [
    {
     "name": "stdout",
     "output_type": "stream",
     "text": [
      "Blue action space: 145\n",
      "Red action space: 888\n"
     ]
    }
   ],
   "source": [
    "env = EnumActionWrapper(cyborg)\n",
    "\n",
    "results = env.reset(agent='Blue')\n",
    "action_space = results.action_space\n",
    "print('Blue action space:',action_space)\n",
    "\n",
    "results = env.reset(agent='Red')\n",
    "action_space = results.action_space\n",
    "print('Red action space:', action_space)"
   ]
  },
  {
   "cell_type": "markdown",
   "metadata": {},
   "source": [
    "We can do a similar thing for the observation space. The FlatFixedWrapper parses the internal state of CybORG and turns it into a list of floats, which can easily be converted into a vector. Unfortunately, this vector is extremely long, with length over 11,000!"
   ]
  },
  {
   "cell_type": "code",
   "execution_count": 4,
   "metadata": {},
   "outputs": [
    {
     "name": "stdout",
     "output_type": "stream",
     "text": [
      "<class 'list'>\n",
      "11293\n"
     ]
    }
   ],
   "source": [
    "env = FixedFlatWrapper(CybORG(path, 'sim'))\n",
    "\n",
    "results = env.reset()\n",
    "obs = results.observation\n",
    "print(type(obs))\n",
    "print(len(obs))"
   ]
  },
  {
   "cell_type": "markdown",
   "metadata": {},
   "source": [
    "The OpenAIGymWrapper converts the output of FlatFixedWrapper to a numpy array as well as conforming to other parts of the OpenAI Gym API. It requires FlatFixedWrapper and EnumActionWrapper in order to function and should always be the outermost of the provided wrappers. You must also specify an agent parameter and explitly specify the environment parameter."
   ]
  },
  {
   "cell_type": "code",
   "execution_count": 5,
   "metadata": {},
   "outputs": [
    {
     "name": "stdout",
     "output_type": "stream",
     "text": [
      "Observation: [ 0.66666667  0.          1.         ... -1.         -1.\n",
      " -1.        ]\n",
      "-------------------------------------------------------------------------\n",
      "Action_Space: Discrete(145)\n",
      "-------------------------------------------------------------------------\n",
      "Observation Space: Box(-1.0, 1.0, (11293,), float32)\n"
     ]
    }
   ],
   "source": [
    "wrappers = FixedFlatWrapper(EnumActionWrapper(cyborg))\n",
    "env = OpenAIGymWrapper(env=wrappers,agent_name='Blue')\n",
    "\n",
    "obs = env.reset()\n",
    "print('Observation:',obs)\n",
    "print(73*'-')\n",
    "print('Action_Space:',env.action_space)\n",
    "print(73*'-')\n",
    "print('Observation Space:',env.observation_space)"
   ]
  },
  {
   "cell_type": "markdown",
   "metadata": {},
   "source": [
    "### Table Wrappers"
   ]
  },
  {
   "cell_type": "markdown",
   "metadata": {},
   "source": [
    "The 'Table Wrappers' attempt to use basic logic to infer a human-friendly picture of the state by keeping track of past observations. This allows for a greatly simplified state space and much greater human readibility. However, it mercilessly exploits the current limitations of Scenario 1b and thus would have limited use on real-world cyber problems.\n",
    "\n",
    "The first wrapper is the TrueTableWrapper, which modifies the get_agent_state method to return the true state in the form of the table."
   ]
  },
  {
   "cell_type": "code",
   "execution_count": 6,
   "metadata": {},
   "outputs": [
    {
     "name": "stdout",
     "output_type": "stream",
     "text": [
      "+-----------------+--------------+-------------+-------+---------+------------+\n",
      "|      Subnet     |  IP Address  |   Hostname  | Known | Scanned |   Access   |\n",
      "+-----------------+--------------+-------------+-------+---------+------------+\n",
      "|  10.0.179.16/28 | 10.0.179.21  |   Defender  | False |  False  |    None    |\n",
      "|  10.0.179.16/28 | 10.0.179.18  | Enterprise0 | False |  False  |    None    |\n",
      "|  10.0.179.16/28 | 10.0.179.29  | Enterprise1 | False |  False  |    None    |\n",
      "|  10.0.179.16/28 | 10.0.179.28  | Enterprise2 | False |  False  |    None    |\n",
      "| 10.0.237.128/28 | 10.0.237.138 |   Op_Host0  | False |  False  |    None    |\n",
      "| 10.0.237.128/28 | 10.0.237.133 |   Op_Host1  | False |  False  |    None    |\n",
      "| 10.0.237.128/28 | 10.0.237.134 |   Op_Host2  | False |  False  |    None    |\n",
      "| 10.0.237.128/28 | 10.0.237.135 |  Op_Server0 | False |  False  |    None    |\n",
      "| 10.0.109.144/28 | 10.0.109.148 |    User0    |  True |  False  | Privileged |\n",
      "| 10.0.109.144/28 | 10.0.109.157 |    User1    | False |  False  |    None    |\n",
      "| 10.0.109.144/28 | 10.0.109.158 |    User2    | False |  False  |    None    |\n",
      "| 10.0.109.144/28 | 10.0.109.156 |    User3    | False |  False  |    None    |\n",
      "| 10.0.109.144/28 | 10.0.109.151 |    User4    | False |  False  |    None    |\n",
      "+-----------------+--------------+-------------+-------+---------+------------+\n"
     ]
    }
   ],
   "source": [
    "env = TrueTableWrapper(cyborg)\n",
    "\n",
    "env.reset()\n",
    "\n",
    "true_table = env.get_agent_state('True')\n",
    "print(true_table)"
   ]
  },
  {
   "cell_type": "markdown",
   "metadata": {},
   "source": [
    "The BlueTableWrapper provides similar functionality for the blue observation."
   ]
  },
  {
   "cell_type": "code",
   "execution_count": 7,
   "metadata": {},
   "outputs": [
    {
     "name": "stdout",
     "output_type": "stream",
     "text": [
      "+-----------------+--------------+-------------+----------+-------------+\n",
      "|      Subnet     |  IP Address  |   Hostname  | Activity | Compromised |\n",
      "+-----------------+--------------+-------------+----------+-------------+\n",
      "|  10.0.58.48/28  |  10.0.58.49  |   Defender  |   None   |      No     |\n",
      "|  10.0.58.48/28  |  10.0.58.59  | Enterprise0 |   None   |      No     |\n",
      "|  10.0.58.48/28  |  10.0.58.60  | Enterprise1 |   None   |      No     |\n",
      "|  10.0.58.48/28  |  10.0.58.50  | Enterprise2 |   None   |      No     |\n",
      "|   10.0.92.0/28  |  10.0.92.14  |   Op_Host0  |   None   |      No     |\n",
      "|   10.0.92.0/28  |  10.0.92.9   |   Op_Host1  |   None   |      No     |\n",
      "|   10.0.92.0/28  |  10.0.92.6   |   Op_Host2  |   None   |      No     |\n",
      "|   10.0.92.0/28  |  10.0.92.11  |  Op_Server0 |   None   |      No     |\n",
      "| 10.0.165.112/28 | 10.0.165.122 |    User0    |   None   |      No     |\n",
      "| 10.0.165.112/28 | 10.0.165.125 |    User1    |   None   |      No     |\n",
      "| 10.0.165.112/28 | 10.0.165.124 |    User2    |   None   |      No     |\n",
      "| 10.0.165.112/28 | 10.0.165.113 |    User3    |   None   |      No     |\n",
      "| 10.0.165.112/28 | 10.0.165.117 |    User4    |   None   |      No     |\n",
      "+-----------------+--------------+-------------+----------+-------------+\n",
      "+-----------------+--------------+-------------+----------+-------------+\n",
      "|      Subnet     |  IP Address  |   Hostname  | Activity | Compromised |\n",
      "+-----------------+--------------+-------------+----------+-------------+\n",
      "|  10.0.58.48/28  |  10.0.58.49  |   Defender  |   None   |      No     |\n",
      "|  10.0.58.48/28  |  10.0.58.59  | Enterprise0 |   None   |      No     |\n",
      "|  10.0.58.48/28  |  10.0.58.60  | Enterprise1 |   None   |      No     |\n",
      "|  10.0.58.48/28  |  10.0.58.50  | Enterprise2 |   None   |      No     |\n",
      "|   10.0.92.0/28  |  10.0.92.14  |   Op_Host0  |   None   |      No     |\n",
      "|   10.0.92.0/28  |  10.0.92.9   |   Op_Host1  |   None   |      No     |\n",
      "|   10.0.92.0/28  |  10.0.92.6   |   Op_Host2  |   None   |      No     |\n",
      "|   10.0.92.0/28  |  10.0.92.11  |  Op_Server0 |   None   |      No     |\n",
      "| 10.0.165.112/28 | 10.0.165.122 |    User0    |   None   |      No     |\n",
      "| 10.0.165.112/28 | 10.0.165.125 |    User1    |   None   |      No     |\n",
      "| 10.0.165.112/28 | 10.0.165.124 |    User2    |   None   |      No     |\n",
      "| 10.0.165.112/28 | 10.0.165.113 |    User3    |   None   |      No     |\n",
      "| 10.0.165.112/28 | 10.0.165.117 |    User4    |   Scan   |      No     |\n",
      "+-----------------+--------------+-------------+----------+-------------+\n",
      "+-----------------+--------------+-------------+----------+-------------+\n",
      "|      Subnet     |  IP Address  |   Hostname  | Activity | Compromised |\n",
      "+-----------------+--------------+-------------+----------+-------------+\n",
      "|  10.0.58.48/28  |  10.0.58.49  |   Defender  |   None   |      No     |\n",
      "|  10.0.58.48/28  |  10.0.58.59  | Enterprise0 |   None   |      No     |\n",
      "|  10.0.58.48/28  |  10.0.58.60  | Enterprise1 |   None   |      No     |\n",
      "|  10.0.58.48/28  |  10.0.58.50  | Enterprise2 |   None   |      No     |\n",
      "|   10.0.92.0/28  |  10.0.92.14  |   Op_Host0  |   None   |      No     |\n",
      "|   10.0.92.0/28  |  10.0.92.9   |   Op_Host1  |   None   |      No     |\n",
      "|   10.0.92.0/28  |  10.0.92.6   |   Op_Host2  |   None   |      No     |\n",
      "|   10.0.92.0/28  |  10.0.92.11  |  Op_Server0 |   None   |      No     |\n",
      "| 10.0.165.112/28 | 10.0.165.122 |    User0    |   None   |      No     |\n",
      "| 10.0.165.112/28 | 10.0.165.125 |    User1    |   None   |      No     |\n",
      "| 10.0.165.112/28 | 10.0.165.124 |    User2    |   None   |      No     |\n",
      "| 10.0.165.112/28 | 10.0.165.113 |    User3    |   None   |      No     |\n",
      "| 10.0.165.112/28 | 10.0.165.117 |    User4    | Exploit  |     User    |\n",
      "+-----------------+--------------+-------------+----------+-------------+\n"
     ]
    }
   ],
   "source": [
    "from CybORG.Agents import B_lineAgent\n",
    "from CybORG.Shared.Actions import Sleep\n",
    "cyborg = CybORG(path,'sim', agents={'Red':B_lineAgent})\n",
    "\n",
    "env = BlueTableWrapper(cyborg)\n",
    "\n",
    "results = env.reset(agent='Blue')\n",
    "\n",
    "for i in range(3):\n",
    "    results = env.step(agent='Blue')\n",
    "    blue_obs = results.observation\n",
    "    print(blue_obs)"
   ]
  },
  {
   "cell_type": "markdown",
   "metadata": {},
   "source": [
    "The table can also be converted into a vector. This is done by setting the output_mode parameter to 'vector'."
   ]
  },
  {
   "cell_type": "code",
   "execution_count": null,
   "metadata": {},
   "outputs": [
    {
     "name": "stdout",
     "output_type": "stream",
     "text": [
      "[0 0 0 0 0 0 0 0 0 0 0 0 0 0 0 0 0 0 0 0 0 0 0 0 0 0 0 0 0 0 0 0 0 0 0 0 0\n",
      " 0 0 0 0 0 0 0 0 0 0 0 0 0 0 0]\n",
      "----------------------------------------------------------------------------\n",
      "[0 0 0 0 0 0 0 0 0 0 0 0 0 0 0 0 0 0 0 0 0 0 0 0 0 0 0 0 0 0 0 0 0 0 0 0 0\n",
      " 0 0 0 0 0 0 0 1 0 0 0 0 0 0 0]\n",
      "----------------------------------------------------------------------------\n",
      "[0 0 0 0 0 0 0 0 0 0 0 0 0 0 0 0 0 0 0 0 0 0 0 0 0 0 0 0 0 0 0 0 0 0 0 0 0\n",
      " 0 0 0 0 0 0 0 1 1 0 1 0 0 0 0]\n",
      "----------------------------------------------------------------------------\n"
     ]
    }
   ],
   "source": [
    "env = BlueTableWrapper(cyborg,output_mode='vector')\n",
    "\n",
    "env.reset(agent='Blue')\n",
    "for i in range(3):\n",
    "    results = env.step(agent='Blue')\n",
    "    blue_obs = env._create_vector(results)\n",
    "    print(results.observation)\n",
    "    print(blue_obs)\n",
    "    print(76*'-')"
   ]
  },
  {
   "cell_type": "markdown",
   "metadata": {},
   "source": [
    "The RedTableWrapper is the Red Team version of the BlueTableWrapper."
   ]
  },
  {
   "cell_type": "code",
   "execution_count": 9,
   "metadata": {},
   "outputs": [
    {
     "name": "stdout",
     "output_type": "stream",
     "text": [
      "+--------------+------------+----------+---------+------------+\n",
      "|    Subnet    | IP Address | Hostname | Scanned |   Access   |\n",
      "+--------------+------------+----------+---------+------------+\n",
      "| 10.0.15.0/28 | 10.0.15.11 |  User0   |  False  | Privileged |\n",
      "+--------------+------------+----------+---------+------------+\n",
      "+--------------+------------+-----------------+---------+------------+\n",
      "|    Subnet    | IP Address |     Hostname    | Scanned |   Access   |\n",
      "+--------------+------------+-----------------+---------+------------+\n",
      "| 10.0.15.0/28 | 10.0.15.11 |      User0      |  False  | Privileged |\n",
      "| 10.0.15.0/28 | 10.0.15.12 | UNKNOWN_HOST: 1 |  False  |    None    |\n",
      "| 10.0.15.0/28 | 10.0.15.4  | UNKNOWN_HOST: 2 |  False  |    None    |\n",
      "| 10.0.15.0/28 | 10.0.15.6  | UNKNOWN_HOST: 3 |  False  |    None    |\n",
      "| 10.0.15.0/28 | 10.0.15.7  | UNKNOWN_HOST: 0 |  False  |    None    |\n",
      "+--------------+------------+-----------------+---------+------------+\n",
      "+--------------+------------+-----------------+---------+------------+\n",
      "|    Subnet    | IP Address |     Hostname    | Scanned |   Access   |\n",
      "+--------------+------------+-----------------+---------+------------+\n",
      "| 10.0.15.0/28 | 10.0.15.11 |      User0      |  False  | Privileged |\n",
      "| 10.0.15.0/28 | 10.0.15.12 | UNKNOWN_HOST: 1 |  False  |    None    |\n",
      "| 10.0.15.0/28 | 10.0.15.4  | UNKNOWN_HOST: 2 |  False  |    None    |\n",
      "| 10.0.15.0/28 | 10.0.15.6  | UNKNOWN_HOST: 3 |  False  |    None    |\n",
      "| 10.0.15.0/28 | 10.0.15.7  | UNKNOWN_HOST: 0 |   True  |    None    |\n",
      "+--------------+------------+-----------------+---------+------------+\n",
      "+--------------+------------+-----------------+---------+------------+\n",
      "|    Subnet    | IP Address |     Hostname    | Scanned |   Access   |\n",
      "+--------------+------------+-----------------+---------+------------+\n",
      "| 10.0.15.0/28 | 10.0.15.11 |      User0      |  False  | Privileged |\n",
      "| 10.0.15.0/28 | 10.0.15.12 | UNKNOWN_HOST: 1 |  False  |    None    |\n",
      "| 10.0.15.0/28 | 10.0.15.4  | UNKNOWN_HOST: 2 |  False  |    None    |\n",
      "| 10.0.15.0/28 | 10.0.15.6  | UNKNOWN_HOST: 3 |  False  |    None    |\n",
      "| 10.0.15.0/28 | 10.0.15.7  |      User1      |   True  |    User    |\n",
      "+--------------+------------+-----------------+---------+------------+\n"
     ]
    }
   ],
   "source": [
    "env = RedTableWrapper(cyborg)\n",
    "\n",
    "results = env.reset(agent='Red')\n",
    "print(results.observation)\n",
    "\n",
    "for i in range(3):\n",
    "    results = env.step(agent='Red')\n",
    "    red_obs = results.observation\n",
    "    print(red_obs)"
   ]
  },
  {
   "cell_type": "markdown",
   "metadata": {},
   "source": [
    "### Challenge Wrapper"
   ]
  },
  {
   "cell_type": "markdown",
   "metadata": {},
   "source": [
    "The challenge wrapper is three wrappers nested together: BlueTableWrapper, EnumActionWrapper and OpenAIGymWrapper."
   ]
  },
  {
   "cell_type": "code",
   "execution_count": 10,
   "metadata": {},
   "outputs": [
    {
     "name": "stdout",
     "output_type": "stream",
     "text": [
      "[ 1  0  0  1  0  0  0  0  0  0  0  0  0  0  0  0 -1 -1 -1 -1 -1 -1 -1 -1\n",
      " -1 -1 -1 -1 -1 -1 -1 -1 -1 -1 -1 -1 -1 -1 -1 -1]\n",
      "----------------------------------------------------------------------------\n",
      "0.0\n",
      "----------------------------------------------------------------------------\n",
      "False\n",
      "----------------------------------------------------------------------------\n",
      "{'action': <CybORG.Shared.Actions.AbstractActions.DiscoverRemoteSystems.DiscoverRemoteSystems object at 0x00000288B5D1DB20>,\n",
      " 'action_name': None,\n",
      " 'action_space': 888,\n",
      " 'done': False,\n",
      " 'error': None,\n",
      " 'error_msg': None,\n",
      " 'info': None,\n",
      " 'next_observation': None,\n",
      " 'observation': array([ 1,  0,  0,  1,  0,  0,  0,  0,  0,  0,  0,  0,  0,  0,  0,  0, -1,\n",
      "       -1, -1, -1, -1, -1, -1, -1, -1, -1, -1, -1, -1, -1, -1, -1, -1, -1,\n",
      "       -1, -1, -1, -1, -1, -1]),\n",
      " 'parameter_mask': None,\n",
      " 'reward': 0.0,\n",
      " 'selection_masks': None}\n"
     ]
    }
   ],
   "source": [
    "env = ChallengeWrapper(env=cyborg,agent_name='Red')\n",
    "\n",
    "obs = env.reset()\n",
    "\n",
    "for i in range(1):\n",
    "    obs, reward, done, info = env.step()\n",
    "    print(obs)\n",
    "    print(76*'-')\n",
    "    print(reward)\n",
    "    print(76*'-')\n",
    "    print(done)\n",
    "    print(76*'-')\n",
    "    pprint(info)"
   ]
  },
  {
   "cell_type": "code",
   "execution_count": null,
   "metadata": {},
   "outputs": [],
   "source": []
  }
 ],
 "metadata": {
  "kernelspec": {
   "display_name": "venv",
   "language": "python",
   "name": "python3"
  },
  "language_info": {
   "codemirror_mode": {
    "name": "ipython",
    "version": 3
   },
   "file_extension": ".py",
   "mimetype": "text/x-python",
   "name": "python",
   "nbconvert_exporter": "python",
   "pygments_lexer": "ipython3",
   "version": "3.12.2"
  }
 },
 "nbformat": 4,
 "nbformat_minor": 4
}
