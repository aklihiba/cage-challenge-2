{
 "cells": [
  {
   "cell_type": "code",
   "execution_count": 29,
   "metadata": {},
   "outputs": [],
   "source": [
    "from CybORG import CybORG\n",
    "from CybORG.Agents.Wrappers import *\n",
    "from CybORG.Agents import *"
   ]
  },
  {
   "cell_type": "code",
   "execution_count": null,
   "metadata": {},
   "outputs": [],
   "source": [
    "import inspect\n",
    "from pprint import pprint\n",
    "path = str(inspect.getfile(CybORG))\n",
    "path = path[:-10] + '/Shared/Scenarios/Scenario2.yaml'\n",
    "\n"
   ]
  },
  {
   "cell_type": "code",
   "execution_count": 53,
   "metadata": {},
   "outputs": [
    {
     "name": "stdout",
     "output_type": "stream",
     "text": [
      "[0 0 0 0 0 0 0 0 0 0 0 0 0 0 0 0 0 0 0 0 0 0 0 0 0 0 0 0 0 0 0 0 0 0 0 0 0\n",
      " 0 0 0 0 0 0 0 0 0 0 0 0 0 0 0]\n"
     ]
    }
   ],
   "source": [
    "env = CybORG(path, 'sim', agents={'Red':B_lineAgent})\n",
    "env = ChallengeWrapper(env=env, agent_name= 'Blue')\n",
    "\n",
    "action_space= env.get_action_space('Blue')\n",
    "# pprint(obs)\n",
    "# print(80*'-')\n",
    "# print(action_space)\n",
    "env = env.reset()\n",
    "print(env)"
   ]
  },
  {
   "cell_type": "code",
   "execution_count": 13,
   "metadata": {},
   "outputs": [],
   "source": [
    "# using a rule based predefined Red agent for the action selection\n",
    "from CybORG.Agents import B_lineAgent\n",
    "agent = B_lineAgent()\n",
    "\n",
    "action = agent.get_action(obs, action_space)\n",
    "results = env.step(agent='Red', action=action)\n"
   ]
  },
  {
   "cell_type": "code",
   "execution_count": null,
   "metadata": {},
   "outputs": [
    {
     "name": "stdout",
     "output_type": "stream",
     "text": [
      "{'10.0.79.209': {'Interface': [{'IP Address': IPv4Address('10.0.79.209'),\n",
      "                                'Subnet': IPv4Network('10.0.79.208/28')}]},\n",
      " '10.0.79.210': {'Interface': [{'IP Address': IPv4Address('10.0.79.210'),\n",
      "                                'Subnet': IPv4Network('10.0.79.208/28')}]},\n",
      " '10.0.79.216': {'Interface': [{'IP Address': IPv4Address('10.0.79.216'),\n",
      "                                'Subnet': IPv4Network('10.0.79.208/28')}]},\n",
      " '10.0.79.220': {'Interface': [{'IP Address': IPv4Address('10.0.79.220'),\n",
      "                                'Subnet': IPv4Network('10.0.79.208/28')}]},\n",
      " '10.0.79.222': {'Interface': [{'IP Address': IPv4Address('10.0.79.222'),\n",
      "                                'Subnet': IPv4Network('10.0.79.208/28')}]},\n",
      " 'success': <TrinaryEnum.TRUE: 1>}\n",
      "--------------------------------------------------------------------------------\n",
      "DiscoverRemoteSystems 10.0.79.208/28\n",
      "--------------------------------------------------------------------------------\n",
      "False\n"
     ]
    }
   ],
   "source": [
    "pprint(results.observation)\n",
    "print(80*'-')\n",
    "print(results.action)\n",
    "print(80*'-')\n",
    "pprint(results.done)"
   ]
  },
  {
   "cell_type": "code",
   "execution_count": null,
   "metadata": {},
   "outputs": [],
   "source": [
    "# opponents interaction\n",
    "# by defining all agents (red, green and blue) they will take turn in performing an action when the step function is called\n",
    "# the turn orderis Blue, Green then Red\n",
    "\n",
    "from CybORG.Agents import B_lineAgent, GreenAgent, BlueMonitorAgent\n",
    "\n",
    "agents = {\n",
    "    'Red': B_lineAgent,\n",
    "    'Green': GreenAgent\n",
    "}\n",
    "\n",
    "env = CybORG(path,'sim',agents=agents)\n",
    "\n",
    "results = env.reset(agent='Blue')\n",
    "obs = results.observation\n",
    "action_space = results.action_space\n",
    "agent = BlueMonitorAgent()\n",
    "\n",
    "for step in range(20):\n",
    "    action = agent.get_action(obs,action_space=action_space)\n",
    "    results = env.step(agent='Blue',action=action)\n",
    "    obs = results.observation\n",
    "    reward = results.reward\n",
    "    print(reward)"
   ]
  }
 ],
 "metadata": {
  "kernelspec": {
   "display_name": "venv",
   "language": "python",
   "name": "python3"
  },
  "language_info": {
   "codemirror_mode": {
    "name": "ipython",
    "version": 3
   },
   "file_extension": ".py",
   "mimetype": "text/x-python",
   "name": "python",
   "nbconvert_exporter": "python",
   "pygments_lexer": "ipython3",
   "version": "3.12.2"
  }
 },
 "nbformat": 4,
 "nbformat_minor": 2
}
